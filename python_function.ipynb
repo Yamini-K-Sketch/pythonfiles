{
  "nbformat": 4,
  "nbformat_minor": 0,
  "metadata": {
    "colab": {
      "provenance": [],
      "authorship_tag": "ABX9TyOJ0n6JOjWLEKSTcPqwf+xu",
      "include_colab_link": true
    },
    "kernelspec": {
      "name": "python3",
      "display_name": "Python 3"
    },
    "language_info": {
      "name": "python"
    }
  },
  "cells": [
    {
      "cell_type": "markdown",
      "metadata": {
        "id": "view-in-github",
        "colab_type": "text"
      },
      "source": [
        "<a href=\"https://colab.research.google.com/github/Yamini-K-Sketch/pythonfiles/blob/main/python_function.ipynb\" target=\"_parent\"><img src=\"https://colab.research.google.com/assets/colab-badge.svg\" alt=\"Open In Colab\"/></a>"
      ]
    },
    {
      "cell_type": "code",
      "execution_count": null,
      "metadata": {
        "colab": {
          "base_uri": "https://localhost:8080/"
        },
        "id": "gHkslm2O5ze8",
        "outputId": "9c6f487c-b310-4ddf-8c2c-3994acbc5590"
      },
      "outputs": [
        {
          "output_type": "stream",
          "name": "stdout",
          "text": [
            "Hello world\n",
            "Hello world\n"
          ]
        }
      ],
      "source": [
        "#basic function\n",
        "def greet():\n",
        "  print(\"Hello world\")\n",
        "greet()\n",
        "greet()"
      ]
    },
    {
      "cell_type": "code",
      "source": [
        "#function with parameters\n",
        "def welcome(name):\n",
        "  print(f\"hello {name}\")\n",
        "welcome(\"sowmya\")"
      ],
      "metadata": {
        "colab": {
          "base_uri": "https://localhost:8080/"
        },
        "id": "kzk09K_Y_c0c",
        "outputId": "1b3cfe7c-9cab-4365-ad23-9fa1fba1e52c"
      },
      "execution_count": null,
      "outputs": [
        {
          "output_type": "stream",
          "name": "stdout",
          "text": [
            "hello sowmya\n"
          ]
        }
      ]
    },
    {
      "cell_type": "code",
      "source": [
        "#function with default parameter\n",
        "def new_greet(name=\"guest\"):\n",
        "  print(f\"hello {name}\")\n",
        "new_greet()\n",
        "new_greet(\"house\")"
      ],
      "metadata": {
        "colab": {
          "base_uri": "https://localhost:8080/"
        },
        "id": "dr1gxdk8ArPQ",
        "outputId": "93a32372-316f-446d-e960-e081bcce6820"
      },
      "execution_count": null,
      "outputs": [
        {
          "output_type": "stream",
          "name": "stdout",
          "text": [
            "hello guest\n",
            "hello house\n"
          ]
        }
      ]
    },
    {
      "cell_type": "code",
      "source": [
        "# function with return value\n",
        "def addition(a,b):\n",
        "  c=a+b\n",
        "  return c\n",
        "a=int(input(\"enter first number:\"))\n",
        "b=int(input(\"enter second number:\"))\n",
        "result=addition(a,b)\n",
        "print(f\"addition of {a} and {b}:{result}\")"
      ],
      "metadata": {
        "id": "bgtKQG6pArRH",
        "outputId": "520163df-396b-44b2-fd7d-202628c934d1",
        "colab": {
          "base_uri": "https://localhost:8080/"
        }
      },
      "execution_count": null,
      "outputs": [
        {
          "output_type": "stream",
          "name": "stdout",
          "text": [
            "enter first number:12\n",
            "enter second number:14\n",
            "addition of 12 and 14:26\n"
          ]
        }
      ]
    },
    {
      "cell_type": "code",
      "source": [
        "#function with multiple return values\n",
        "def split_name(fullname):\n",
        "  firstname,lastname = fullname.split()\n",
        "  return firstname,lastname\n",
        "first,last=split_name(\"sowmya kameshwaran\")\n",
        "print(first)\n",
        "print(last)"
      ],
      "metadata": {
        "id": "kux2ybcADqq8",
        "outputId": "3eafa4b9-aa3d-4cff-c805-d27d7589b7a8",
        "colab": {
          "base_uri": "https://localhost:8080/"
        }
      },
      "execution_count": 5,
      "outputs": [
        {
          "output_type": "stream",
          "name": "stdout",
          "text": [
            "sowmya\n",
            "kameshwaran\n"
          ]
        }
      ]
    },
    {
      "cell_type": "code",
      "source": [],
      "metadata": {
        "id": "5Rj5u_3bDwDK"
      },
      "execution_count": null,
      "outputs": []
    }
  ]
}