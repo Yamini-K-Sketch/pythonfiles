{
  "nbformat": 4,
  "nbformat_minor": 0,
  "metadata": {
    "colab": {
      "provenance": [],
      "authorship_tag": "ABX9TyNgbGY3js4q0gKkG+ztV0q9",
      "include_colab_link": true
    },
    "kernelspec": {
      "name": "python3",
      "display_name": "Python 3"
    },
    "language_info": {
      "name": "python"
    }
  },
  "cells": [
    {
      "cell_type": "markdown",
      "metadata": {
        "id": "view-in-github",
        "colab_type": "text"
      },
      "source": [
        "<a href=\"https://colab.research.google.com/github/Yamini-K-Sketch/pythonfiles/blob/main/List__data__type.ipynb\" target=\"_parent\"><img src=\"https://colab.research.google.com/assets/colab-badge.svg\" alt=\"Open In Colab\"/></a>"
      ]
    },
    {
      "cell_type": "code",
      "execution_count": null,
      "metadata": {
        "colab": {
          "base_uri": "https://localhost:8080/"
        },
        "id": "b2mur82zaZyO",
        "outputId": "362dee92-c2ab-4ffb-fccd-459b5cf4674d"
      },
      "outputs": [
        {
          "output_type": "stream",
          "name": "stdout",
          "text": [
            "hello world\n"
          ]
        }
      ],
      "source": [
        "print(\"hello world\")"
      ]
    },
    {
      "cell_type": "code",
      "source": [
        "fruit=[\"apple\",\"orange\",\"mango\",\"pineapple\"]\n",
        "fruit[1:3]=[\"strawberry\",\"lichi\"]\n",
        "print(fruit)\n",
        "fruit.insert(2,\"guava\")\n",
        "print(fruit)\n",
        "\n",
        "\n"
      ],
      "metadata": {
        "colab": {
          "base_uri": "https://localhost:8080/"
        },
        "id": "ntaoC_YaasKC",
        "outputId": "609e46ad-8281-4e73-fb19-5b52cd9e931c"
      },
      "execution_count": null,
      "outputs": [
        {
          "output_type": "stream",
          "name": "stdout",
          "text": [
            "['apple', 'strawberry', 'lichi', 'pineapple']\n",
            "['apple', 'strawberry', 'guava', 'lichi', 'pineapple']\n"
          ]
        }
      ]
    },
    {
      "cell_type": "code",
      "source": [
        "mylist=[11,32,8,13]\n",
        "mylist.append(41)\n",
        "print(mylist)"
      ],
      "metadata": {
        "id": "sWtXqaTDbcrC",
        "colab": {
          "base_uri": "https://localhost:8080/"
        },
        "outputId": "b7095ea6-7168-46ed-ee9e-719f06c663c0"
      },
      "execution_count": 3,
      "outputs": [
        {
          "output_type": "stream",
          "name": "stdout",
          "text": [
            "[11, 32, 8, 13, 41]\n"
          ]
        }
      ]
    },
    {
      "cell_type": "code",
      "source": [
        "mylist=[11,32,8,13]\n",
        "mylist.extend([3,41])\n",
        "print(mylist)"
      ],
      "metadata": {
        "colab": {
          "base_uri": "https://localhost:8080/"
        },
        "id": "PJ4S_XHTvHd6",
        "outputId": "a33e7933-03f0-4657-f84b-2f0e76faa968"
      },
      "execution_count": 4,
      "outputs": [
        {
          "output_type": "stream",
          "name": "stdout",
          "text": [
            "[11, 32, 8, 13, 3, 41]\n"
          ]
        }
      ]
    },
    {
      "cell_type": "code",
      "source": [
        "mylist.insert(4,20)\n",
        "print(mylist)"
      ],
      "metadata": {
        "colab": {
          "base_uri": "https://localhost:8080/"
        },
        "id": "8JuI3UYovxVg",
        "outputId": "0a81f483-c94f-44b9-d87f-3300a2d0e2e4"
      },
      "execution_count": 6,
      "outputs": [
        {
          "output_type": "stream",
          "name": "stdout",
          "text": [
            "[11, 32, 8, 13, 20, 3, 41, 4]\n"
          ]
        }
      ]
    },
    {
      "cell_type": "code",
      "source": [
        "mylist.remove(32)\n",
        "print(mylist)"
      ],
      "metadata": {
        "colab": {
          "base_uri": "https://localhost:8080/"
        },
        "id": "YpmS9ww5wFd0",
        "outputId": "e79f86ae-d5c1-4e3a-cc03-cd7702923bbb"
      },
      "execution_count": 7,
      "outputs": [
        {
          "output_type": "stream",
          "name": "stdout",
          "text": [
            "[11, 8, 13, 20, 3, 41, 4]\n"
          ]
        }
      ]
    },
    {
      "cell_type": "code",
      "source": [
        "print(mylist)\n",
        "item=mylist.pop(3)\n",
        "print(item)\n",
        "print(mylist)"
      ],
      "metadata": {
        "colab": {
          "base_uri": "https://localhost:8080/"
        },
        "id": "ab0IDTAExY6C",
        "outputId": "020edac1-b73e-4161-fb1a-9972f8f2e1af"
      },
      "execution_count": 8,
      "outputs": [
        {
          "output_type": "stream",
          "name": "stdout",
          "text": [
            "[11, 8, 13, 20, 3, 41, 4]\n",
            "20\n",
            "[11, 8, 13, 3, 41, 4]\n"
          ]
        }
      ]
    },
    {
      "cell_type": "code",
      "source": [
        "print(mylist.index(8))"
      ],
      "metadata": {
        "colab": {
          "base_uri": "https://localhost:8080/"
        },
        "id": "NJgZtoovyUiz",
        "outputId": "01c6bbbb-2663-434d-9404-988a673217b4"
      },
      "execution_count": 9,
      "outputs": [
        {
          "output_type": "stream",
          "name": "stdout",
          "text": [
            "1\n"
          ]
        }
      ]
    },
    {
      "cell_type": "code",
      "source": [
        "c=mylist.count(8)\n",
        "print(c)"
      ],
      "metadata": {
        "colab": {
          "base_uri": "https://localhost:8080/"
        },
        "id": "BbXzQFnpyiEp",
        "outputId": "5079972d-16d3-48a1-a45a-1e594684f4ae"
      },
      "execution_count": 10,
      "outputs": [
        {
          "output_type": "stream",
          "name": "stdout",
          "text": [
            "1\n"
          ]
        }
      ]
    },
    {
      "cell_type": "code",
      "source": [
        "mylist2=[11,12,12]\n",
        "c=mylist.count(12)\n",
        "print(c)"
      ],
      "metadata": {
        "colab": {
          "base_uri": "https://localhost:8080/"
        },
        "id": "KKuvpz5zy5XN",
        "outputId": "5677c650-74d7-42b5-bef2-f3008d54e634"
      },
      "execution_count": 11,
      "outputs": [
        {
          "output_type": "stream",
          "name": "stdout",
          "text": [
            "0\n"
          ]
        }
      ]
    },
    {
      "cell_type": "code",
      "source": [
        "mylist3=[3,6,1,8,2]\n",
        "mylist3.sort()\n",
        "print(mylist3)\n"
      ],
      "metadata": {
        "colab": {
          "base_uri": "https://localhost:8080/"
        },
        "id": "GYmfvL7SzC7p",
        "outputId": "b8e8e3d9-de8c-475e-bc04-870eca47316d"
      },
      "execution_count": 14,
      "outputs": [
        {
          "output_type": "stream",
          "name": "stdout",
          "text": [
            "[1, 2, 3, 6, 8]\n"
          ]
        }
      ]
    },
    {
      "cell_type": "code",
      "source": [
        "mylist3.reverse()\n",
        "print(mylist3)"
      ],
      "metadata": {
        "colab": {
          "base_uri": "https://localhost:8080/"
        },
        "id": "dLueAtKMzRyM",
        "outputId": "e144dd09-7cd6-4f10-ae20-39d9bbef99d4"
      },
      "execution_count": 16,
      "outputs": [
        {
          "output_type": "stream",
          "name": "stdout",
          "text": [
            "[1, 2, 3, 6, 8]\n"
          ]
        }
      ]
    },
    {
      "cell_type": "code",
      "source": [
        "new_list=mylist.copy()\n",
        "print(new_list)"
      ],
      "metadata": {
        "colab": {
          "base_uri": "https://localhost:8080/"
        },
        "id": "_uFNykOT0DqQ",
        "outputId": "fbc74a07-2118-49a9-f6a3-dfca276351ee"
      },
      "execution_count": 17,
      "outputs": [
        {
          "output_type": "stream",
          "name": "stdout",
          "text": [
            "[11, 8, 13, 3, 41, 4]\n"
          ]
        }
      ]
    },
    {
      "cell_type": "code",
      "source": [
        "list=[\"Red\",\"Blue\",\"Green\",\"Yellow\",\"Pink\"]\n",
        "list.sort()\n",
        "print(list)"
      ],
      "metadata": {
        "colab": {
          "base_uri": "https://localhost:8080/"
        },
        "id": "W1IySdCn0I6W",
        "outputId": "3c33b17a-8297-49a6-eff1-6e8d913372ce"
      },
      "execution_count": 18,
      "outputs": [
        {
          "output_type": "stream",
          "name": "stdout",
          "text": [
            "['Blue', 'Green', 'Pink', 'Red', 'Yellow']\n"
          ]
        }
      ]
    },
    {
      "cell_type": "code",
      "source": [
        "mylist4=[24,99,92,86,101]\n",
        "a=max(mylist4)\n",
        "print(a)"
      ],
      "metadata": {
        "colab": {
          "base_uri": "https://localhost:8080/"
        },
        "id": "Kotn-gZU1J_4",
        "outputId": "b16c3608-2c0e-4f53-a610-562742fc400e"
      },
      "execution_count": 20,
      "outputs": [
        {
          "output_type": "stream",
          "name": "stdout",
          "text": [
            "101\n"
          ]
        }
      ]
    },
    {
      "cell_type": "code",
      "source": [
        "print(mylist4[0])\n",
        "mylist4.append(50)\n",
        "print(mylist4)"
      ],
      "metadata": {
        "colab": {
          "base_uri": "https://localhost:8080/"
        },
        "id": "fAJA0IcE19hC",
        "outputId": "c5bcd325-d639-4fe7-86b8-d95e5d4c5888"
      },
      "execution_count": 26,
      "outputs": [
        {
          "output_type": "stream",
          "name": "stdout",
          "text": [
            "24\n",
            "[24, 99, 92, 86, 101, 50, 50]\n"
          ]
        }
      ]
    }
  ]
}